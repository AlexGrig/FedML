{
 "cells": [
  {
   "cell_type": "code",
   "execution_count": 1,
   "id": "e5dab0e0-df7d-4f93-a98b-32931b789a1c",
   "metadata": {},
   "outputs": [
    {
     "name": "stderr",
     "output_type": "stream",
     "text": [
      "/Users/alexgrig/miniconda/envs/fedml/lib/python3.7/site-packages/tqdm/auto.py:22: TqdmWarning: IProgress not found. Please update jupyter and ipywidgets. See https://ipywidgets.readthedocs.io/en/stable/user_install.html\n",
      "  from .autonotebook import tqdm as notebook_tqdm\n"
     ]
    }
   ],
   "source": [
    "import torch"
   ]
  },
  {
   "cell_type": "code",
   "execution_count": 16,
   "id": "47a228b3-f2c5-4de1-80a3-cf0b20618d14",
   "metadata": {},
   "outputs": [],
   "source": [
    "class LinearRegression_batch(torch.nn.Module):\n",
    "    def __init__(self, input_dim, output_dim, reg_lambda):\n",
    "        \"\"\"\n",
    "\n",
    "        Args:\n",
    "            input_dim (int): input dimension\n",
    "            output_dim (int): output dimension\n",
    "            reg_lambda (float): L2 regularizer per 1-sample. That is - regularizer on the sacale of\n",
    "                MSE error. \n",
    "        \"\"\"\n",
    "        super(LinearRegression_batch, self).__init__()\n",
    "        self.linear = torch.nn.Linear(input_dim, output_dim, bias=True, device=None, dtype=None)\n",
    "        self.requires_grad_(False) # turn off grad computation\n",
    "        \n",
    "    def forward(self, x):\n",
    "        # try:\n",
    "        outputs = self.linear(x)\n",
    "        # except:\n",
    "        #     print(x.size())\n",
    "        #     import pdb\n",
    "        #     pdb.set_trace()\n",
    "        return outputs"
   ]
  },
  {
   "cell_type": "code",
   "execution_count": 17,
   "id": "caaff03c-bfda-46e8-b5c8-6eab9ae9103e",
   "metadata": {},
   "outputs": [],
   "source": [
    "linreg = LinearRegression_batch(3,2,0.1)"
   ]
  },
  {
   "cell_type": "code",
   "execution_count": 21,
   "id": "758bc055-f070-4fb9-815b-4e6ee99463d6",
   "metadata": {},
   "outputs": [
    {
     "data": {
      "text/plain": [
       "LinearRegression_batch(\n",
       "  (linear): Linear(in_features=3, out_features=2, bias=True)\n",
       ")"
      ]
     },
     "execution_count": 21,
     "metadata": {},
     "output_type": "execute_result"
    }
   ],
   "source": [
    "linreg.requires_grad_(True)"
   ]
  },
  {
   "cell_type": "code",
   "execution_count": 22,
   "id": "14866bee-fff0-406f-b22e-7c4028ee8e74",
   "metadata": {},
   "outputs": [
    {
     "data": {
      "text/plain": [
       "Parameter containing:\n",
       "tensor([-0.4689, -0.4892], requires_grad=True)"
      ]
     },
     "execution_count": 22,
     "metadata": {},
     "output_type": "execute_result"
    }
   ],
   "source": [
    "linreg.linear.bias.copy_("
   ]
  },
  {
   "cell_type": "code",
   "execution_count": null,
   "id": "5e1f1b84-dd62-4b55-82ba-5f914a4875aa",
   "metadata": {},
   "outputs": [],
   "source": []
  }
 ],
 "metadata": {
  "kernelspec": {
   "display_name": "fedml",
   "language": "python",
   "name": "fedml"
  },
  "language_info": {
   "codemirror_mode": {
    "name": "ipython",
    "version": 3
   },
   "file_extension": ".py",
   "mimetype": "text/x-python",
   "name": "python",
   "nbconvert_exporter": "python",
   "pygments_lexer": "ipython3",
   "version": "3.7.13"
  }
 },
 "nbformat": 4,
 "nbformat_minor": 5
}
